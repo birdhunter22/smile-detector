import cv2
camera = cv2.VideoCapture(0)
while(True):
    # Capture frame-by-frame
    ret, frame = camera.read()
    if not frame.empty():
       cv2.cvtColor(frame, cv2.COLOR_BGR2GRAY)

       cv2.imshow('camera', frame)

    #    k = cv2.waitKey(30)

# When everything done, release the capture
camera.release()
cv2.destroyAllWindows()